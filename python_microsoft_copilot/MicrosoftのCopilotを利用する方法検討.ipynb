{
 "cells": [
  {
   "cell_type": "markdown",
   "id": "b42c716d-9716-4913-bbfa-4edea7a5f9db",
   "metadata": {},
   "source": [
    "# MicrosoftのCopilotを利用する方法検討"
   ]
  },
  {
   "cell_type": "markdown",
   "id": "0f237916-02ba-4331-9411-f96fe7547348",
   "metadata": {},
   "source": [
    "## ライブラリ"
   ]
  },
  {
   "cell_type": "code",
   "execution_count": 42,
   "id": "19a5bc28-3e1e-469a-8967-bc90ce1a0292",
   "metadata": {},
   "outputs": [],
   "source": [
    "from selenium import webdriver\n",
    "from selenium.webdriver.chrome.options import Options\n",
    "from selenium.webdriver.common.by import By\n",
    "import datetime\n",
    "import os\n",
    "import time"
   ]
  },
  {
   "cell_type": "markdown",
   "id": "2ae86172-4341-4526-ab68-260555a3de65",
   "metadata": {},
   "source": [
    "## copilotの返答を取得"
   ]
  },
  {
   "cell_type": "code",
   "execution_count": 44,
   "id": "8297a6bd-07bb-40d4-bb88-fe3efb24fbe8",
   "metadata": {},
   "outputs": [
    {
     "name": "stdout",
     "output_type": "stream",
     "text": [
      "明日の広島市南区の天気予報によると、曇りで、最高気温は20°C、最低気温は12°Cです。雨の確率は低く、普通の曇りの日になりそうですね。\n"
     ]
    }
   ],
   "source": [
    "# ウェブドライバ設定\n",
    "driver = webdriver.Chrome()\n",
    "# driver.maximize_window()\n",
    "\n",
    "# copilot起動\n",
    "driver.get('https://copilot.microsoft.com')\n",
    "time.sleep(5)\n",
    "\n",
    "# リダイレクトを監視\n",
    "if \"onboarding\" in driver.current_url:\n",
    "    driver.get(\"https://copilot.microsoft.com\")\n",
    "\n",
    "time.sleep(5)\n",
    "\n",
    "# テキストボックスに質問入力\n",
    "user_input = driver.find_element(By.XPATH, \"//textarea[@placeholder='Copilot へメッセージを送る']\")\n",
    "input_text = \"広島市南区の明日の天気を教えて\"\n",
    "user_input.send_keys(input_text)\n",
    "time.sleep(5)\n",
    "\n",
    "# ボタンをクリック\n",
    "button = driver.find_element(By.XPATH, '//button[@title=\"メッセージの送信\"]')\n",
    "button.click()\n",
    "time.sleep(5)\n",
    "\n",
    "# data-content=\"ai-message\"属性を持つ要素を探し、その中のpタグのテキストを取得\n",
    "p_text = driver.find_element(By.CSS_SELECTOR, '[data-content=\"ai-message\"] p').text\n",
    "\n",
    "# 結果を表示\n",
    "print(p_text)"
   ]
  },
  {
   "cell_type": "code",
   "execution_count": null,
   "id": "7d94a702-c4ef-4fd5-90ff-6e5d85e6721c",
   "metadata": {},
   "outputs": [],
   "source": []
  }
 ],
 "metadata": {
  "kernelspec": {
   "display_name": "Python (Poetry)",
   "language": "python",
   "name": "poetry"
  },
  "language_info": {
   "codemirror_mode": {
    "name": "ipython",
    "version": 3
   },
   "file_extension": ".py",
   "mimetype": "text/x-python",
   "name": "python",
   "nbconvert_exporter": "python",
   "pygments_lexer": "ipython3",
   "version": "3.13.0"
  }
 },
 "nbformat": 4,
 "nbformat_minor": 5
}
