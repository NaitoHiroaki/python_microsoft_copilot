{
 "cells": [
  {
   "cell_type": "markdown",
   "id": "b42c716d-9716-4913-bbfa-4edea7a5f9db",
   "metadata": {},
   "source": [
    "# MicrosoftのCopilotを利用する方法検討"
   ]
  },
  {
   "cell_type": "code",
   "execution_count": null,
   "id": "19a5bc28-3e1e-469a-8967-bc90ce1a0292",
   "metadata": {},
   "outputs": [],
   "source": []
  }
 ],
 "metadata": {
  "kernelspec": {
   "display_name": "Python (Poetry)",
   "language": "python",
   "name": "poetry"
  },
  "language_info": {
   "codemirror_mode": {
    "name": "ipython",
    "version": 3
   },
   "file_extension": ".py",
   "mimetype": "text/x-python",
   "name": "python",
   "nbconvert_exporter": "python",
   "pygments_lexer": "ipython3",
   "version": "3.13.0"
  }
 },
 "nbformat": 4,
 "nbformat_minor": 5
}
